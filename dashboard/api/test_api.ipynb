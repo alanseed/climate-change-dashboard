{
 "cells": [
  {
   "cell_type": "code",
   "execution_count": 1,
   "source": [
    "# Notebook to test that the api is working properly \r\n",
    "import requests\r\n",
    "import json"
   ],
   "outputs": [],
   "metadata": {}
  },
  {
   "cell_type": "code",
   "execution_count": 3,
   "source": [
    "# get the list of station ids \r\n",
    "response = requests.get(url=\"http://127.0.0.1:5000/list?table=stations\")\r\n",
    "data = json.loads(response.text)\r\n",
    "station_id = []\r\n",
    "for i in range (0,len(data[\"results\"])):\r\n",
    "  station_id.append(data[\"results\"][i][\"station_id\"])\r\n",
    "\r\n",
    "print(station_id)"
   ],
   "outputs": [
    {
     "output_type": "stream",
     "name": "stdout",
     "text": [
      "[61078, 59040, 39083, 67105, 31011, 33119, 9789, 26021, 15590, 18012, 23090, 14015, 94029, 16001, 53115, 8051, 9741, 9021, 15135, 40004, 32040, 6011, 12038, 72150, 3003, 87031, 65070, 68072, 4032, 7045, 85072, 10579, 58012, 84016, 61363, 74258, 5007, 56242, 40043, 30045, 46043, 39128, 40842, 55024, 76031, 63005, 13017, 44021, 10286, 85096, 27058, 73054, 78015, 14825, 72161, 84145, 82039, 10917, 28004, 36007, 69018, 26026, 8039, 9518, 37010, 94220, 38003, 2012, 18044, 60139, 52088, 96003, 17043, 30124, 80023, 48245, 92045, 43109, 90015, 86071, 39066, 10092, 15666, 9510, 45025, 11052, 4106, 68151, 5026, 48027, 70351, 8296, 29077, 91311, 23373, 1019, 46037, 36031, 42112, 38026, 18192, 29063, 91293, 22823, 66062, 11003, 94010, 34084, 16098, 21133, 27045, 17031]\n"
     ]
    }
   ],
   "metadata": {}
  },
  {
   "cell_type": "code",
   "execution_count": 4,
   "source": [
    "# get all the humidity for a station \r\n",
    "hum_url = f\"http://127.0.0.1:5000/humidity?station_id={station_id[0]}\"\r\n",
    "response = requests.get(url=hum_url)\r\n",
    "data = json.loads(response.text)\r\n",
    "print(data[\"results\"][0])"
   ],
   "outputs": [
    {
     "output_type": "stream",
     "name": "stdout",
     "text": [
      "{'annual': 73.13, 'april': 77.39, 'august': 70.85, 'climatology_year_range': '2020-2039', 'coord': {'lat': -32.79, 'lon': 151.84}, 'december': 69.32, 'february': 79.51, 'january': 73.17, 'july': 77.0, 'june': 78.89, 'march': 78.91, 'may': 79.91, 'model_id': 'CESM1-CAM5', 'november': 67.18, 'october': 61.41, 'rcp_id': 'RCP26', 'september': 64.07, 'station_id': 61078, 'station_name': 'Williamtown', 'variable': 'humidity at 9AM'}\n"
     ]
    }
   ],
   "metadata": {}
  }
 ],
 "metadata": {
  "orig_nbformat": 4,
  "language_info": {
   "name": "python",
   "version": "3.8.5",
   "mimetype": "text/x-python",
   "codemirror_mode": {
    "name": "ipython",
    "version": 3
   },
   "pygments_lexer": "ipython3",
   "nbconvert_exporter": "python",
   "file_extension": ".py"
  },
  "kernelspec": {
   "name": "python3",
   "display_name": "Python 3.8.5 64-bit ('PythonData': conda)"
  },
  "interpreter": {
   "hash": "9bffe33b5fd20bd79db2aeb53e20f32ff9281612073e95f8cc7d91022c1172a1"
  }
 },
 "nbformat": 4,
 "nbformat_minor": 2
}