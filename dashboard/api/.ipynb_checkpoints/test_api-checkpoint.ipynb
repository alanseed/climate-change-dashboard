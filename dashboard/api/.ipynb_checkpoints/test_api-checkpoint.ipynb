{
 "cells": [
  {
   "cell_type": "code",
   "execution_count": 1,
   "metadata": {},
   "outputs": [],
   "source": [
    "# Notebook to test that the api is working properly \n",
    "import requests\n",
    "import json"
   ]
  },
  {
   "cell_type": "code",
   "execution_count": 3,
   "metadata": {},
   "outputs": [
    {
     "name": "stdout",
     "output_type": "stream",
     "text": [
      "[61078, 59040, 39083, 67105, 31011, 33119, 9789, 26021, 15590, 18012, 23090, 14015, 94029, 16001, 53115, 8051, 9741, 9021, 15135, 40004, 32040, 6011, 12038, 72150, 3003, 87031, 65070, 68072, 4032, 7045, 85072, 10579, 58012, 84016, 61363, 74258, 5007, 56242, 40043, 30045, 46043, 39128, 40842, 55024, 76031, 63005, 13017, 44021, 10286, 85096, 27058, 73054, 78015, 14825, 72161, 84145, 82039, 10917, 28004, 36007, 69018, 26026, 8039, 9518, 37010, 94220, 38003, 2012, 18044, 60139, 52088, 96003, 17043, 30124, 80023, 48245, 92045, 43109, 90015, 86071, 39066, 10092, 15666, 9510, 45025, 11052, 4106, 68151, 5026, 48027, 70351, 8296, 29077, 91311, 23373, 1019, 46037, 36031, 42112, 38026, 18192, 29063, 91293, 22823, 66062, 11003, 94010, 34084, 16098, 21133, 27045, 17031]\n"
     ]
    }
   ],
   "source": [
    "# get the list of station ids \n",
    "response = requests.get(url=\"http://127.0.0.1:5000/list?table=stations\")\n",
    "data = json.loads(response.text)\n",
    "station_id = []\n",
    "for i in range (0,len(data[\"results\"])):\n",
    "  station_id.append(data[\"results\"][i][\"station_id\"])\n",
    "\n",
    "print(station_id)"
   ]
  },
  {
   "cell_type": "code",
   "execution_count": 4,
   "metadata": {},
   "outputs": [
    {
     "name": "stdout",
     "output_type": "stream",
     "text": [
      "{'annual': 73.13, 'april': 77.39, 'august': 70.85, 'climatology_year_range': '2020-2039', 'coord': {'lat': -32.79, 'lon': 151.84}, 'december': 69.32, 'february': 79.51, 'january': 73.17, 'july': 77.0, 'june': 78.89, 'march': 78.91, 'may': 79.91, 'model_id': 'CESM1-CAM5', 'november': 67.18, 'october': 61.41, 'rcp_id': 'RCP26', 'september': 64.07, 'station_id': 61078, 'station_name': 'Williamtown', 'variable': 'humidity at 9AM'}\n"
     ]
    }
   ],
   "source": [
    "# get all the humidity for a station \n",
    "hum_url = f\"http://127.0.0.1:5000/humidity?station_id={station_id[0]}\"\n",
    "response = requests.get(url=hum_url)\n",
    "data = json.loads(response.text)\n",
    "print(data[\"results\"][0])"
   ]
  }
 ],
 "metadata": {
  "interpreter": {
   "hash": "9bffe33b5fd20bd79db2aeb53e20f32ff9281612073e95f8cc7d91022c1172a1"
  },
  "kernelspec": {
   "display_name": "Python 3",
   "language": "python",
   "name": "python3"
  },
  "language_info": {
   "codemirror_mode": {
    "name": "ipython",
    "version": 3
   },
   "file_extension": ".py",
   "mimetype": "text/x-python",
   "name": "python",
   "nbconvert_exporter": "python",
   "pygments_lexer": "ipython3",
   "version": "3.8.8"
  }
 },
 "nbformat": 4,
 "nbformat_minor": 2
}
